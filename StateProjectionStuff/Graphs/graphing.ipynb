{
 "cells": [
  {
   "cell_type": "code",
   "execution_count": null,
   "metadata": {},
   "outputs": [],
   "source": [
    "import numpy as np \n",
    "import seaborn as sns\n",
    "import matplotlib.pyplot as plt"
   ]
  },
  {
   "cell_type": "code",
   "execution_count": null,
   "metadata": {},
   "outputs": [],
   "source": [
    "data = []\n",
    "with open('HWP.txt', 'r') as file:\n",
    "    for line in file:\n",
    "        data_line = line.strip().split( )\n",
    "        data.append(data_line)\n",
    "    \n",
    "daData = pd.DataFrame(data)\n",
    "daData = daData.iloc[:148, 1:6]\n",
    "daData.columns =['One','Two','Three','Four','Five']"
   ]
  }
 ],
 "metadata": {
  "kernelspec": {
   "display_name": "Python 3",
   "language": "python",
   "name": "python3"
  },
  "language_info": {
   "name": "python",
   "version": "3.12.2"
  }
 },
 "nbformat": 4,
 "nbformat_minor": 2
}
