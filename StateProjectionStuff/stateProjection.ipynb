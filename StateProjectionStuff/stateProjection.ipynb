{
 "cells": [
  {
   "cell_type": "markdown",
   "metadata": {},
   "source": [
    "This is my attempt to read in the files from feb 17th run of state projection\n",
    "Dont look at the code just the pretty graphs :) Dunno what any of the infomation was just turned them into text files bc\n",
    "I could put them into dataFrames"
   ]
  },
  {
   "cell_type": "code",
   "execution_count": null,
   "metadata": {},
   "outputs": [],
   "source": [
    "import numpy as np\n",
    "import pandas as pd\n"
   ]
  },
  {
   "cell_type": "code",
   "execution_count": null,
   "metadata": {},
   "outputs": [],
   "source": [
    "data = []\n",
    "with open('HWP_0_180.txt', 'r') as file:\n",
    "    for line in file:\n",
    "        data_line = line.strip().split( )\n",
    "        data.append(data_line)\n",
    "    \n",
    "daData = pd.DataFrame(data)\n",
    "daData = daData.iloc[:148, 1:6]\n",
    "daData.columns =['One','Two','Three','Four','Five']\n",
    "#daData.head"
   ]
  },
  {
   "cell_type": "code",
   "execution_count": null,
   "metadata": {},
   "outputs": [],
   "source": [
    "\"\"\"\n",
    "import matplotlib.pyplot as plt ## Plotting library\n",
    "fig, ax = plt.subplots()\n",
    "#fig.suptitle(\" Stuff\")\n",
    "#x=np.linspace(1,5,20) ### x coordinates- 20 equi-spaced values from 1 to 5\n",
    "ax.plot(daData.One,color = 'green')\n",
    "ax.plot(daData.Two,color = 'red')\n",
    "ax.plot(daData.Three,color = 'blue')\n",
    "ax.plot(daData.Four,color = 'cyan')\n",
    "ax.plot(daData.Five,color = 'pink')\n",
    "fig.set_figheight(4)\n",
    "fig.set_figwidth(8)\n",
    "plt.show()\"\"\""
   ]
  },
  {
   "cell_type": "code",
   "execution_count": null,
   "metadata": {},
   "outputs": [],
   "source": [
    "print(daData.iloc[:,1:3].corr())\n",
    "print(daData.iloc[:,3:5].corr())\n",
    "#print(daData.iloc[:,1:3].diff().corr())\n",
    "#print(daData.iloc[:,3:5].diff().corr())\n"
   ]
  },
  {
   "cell_type": "markdown",
   "metadata": {},
   "source": [
    "garabage so scale"
   ]
  },
  {
   "cell_type": "code",
   "execution_count": null,
   "metadata": {},
   "outputs": [],
   "source": [
    "from sklearn import preprocessing\n",
    "scaler = preprocessing.StandardScaler()\n",
    "scaled_df = scaler.fit_transform(daData)\n",
    "scaled_df_One = pd.DataFrame(scaled_df, columns =['One','Two','Three','Four','Five'])"
   ]
  },
  {
   "cell_type": "code",
   "execution_count": null,
   "metadata": {},
   "outputs": [],
   "source": [
    "fig, ax = plt.subplots(3)\n",
    "#fig.suptitle(\" Stuff\")\n",
    "#x=np.linspace(1,5,20) ### x coordinates- 20 equi-spaced values from 1 to 5\n",
    "ax[0].plot(scaled_df_One.One,color = 'green')\n",
    "ax[1].plot(scaled_df_One.Two,color = 'red')\n",
    "ax[1].plot(scaled_df_One.Three,color = 'blue')\n",
    "ax[2].plot(scaled_df_One.Four,color = 'cyan')\n",
    "ax[2].plot(scaled_df_One.Five,color = 'pink')\n",
    "fig.set_figheight(8)\n",
    "fig.set_figwidth(10)\n",
    "plt.show()"
   ]
  },
  {
   "cell_type": "code",
   "execution_count": null,
   "metadata": {},
   "outputs": [],
   "source": [
    "print(scaled_df_One.iloc[:,1:3].corr())\n",
    "print(scaled_df_One.iloc[:,3:5].corr())"
   ]
  },
  {
   "cell_type": "code",
   "execution_count": null,
   "metadata": {},
   "outputs": [],
   "source": [
    "#sns.lmplot(x='Two', y='Three', fit_reg=True, data=scaled_df_One);\n",
    "\n"
   ]
  },
  {
   "cell_type": "code",
   "execution_count": null,
   "metadata": {},
   "outputs": [],
   "source": [
    "#sns.lmplot(x='Four', y='Five', fit_reg=True, data=scaled_df_One);"
   ]
  },
  {
   "cell_type": "code",
   "execution_count": null,
   "metadata": {},
   "outputs": [],
   "source": [
    "data = []\n",
    "with open('POL_0_90.txt', 'r') as file:\n",
    "    for line in file:\n",
    "        data_line = line.strip().split( )\n",
    "        data.append(data_line)\n",
    "    \n",
    "Data_POL = pd.DataFrame(data)\n",
    "Data_POL = Data_POL.iloc[:153, 1:6]\n",
    "scaled = scaler.fit_transform(Data_POL)\n",
    "scaled_POL = pd.DataFrame(scaled, columns =['One','Two','Three','Four','Five'])"
   ]
  },
  {
   "cell_type": "code",
   "execution_count": null,
   "metadata": {},
   "outputs": [],
   "source": [
    "fig, ax = plt.subplots(3)\n",
    "ax[0].plot(scaled_POL.One,color = 'green')\n",
    "ax[1].plot(scaled_POL.Two,color = 'red')\n",
    "ax[1].plot(scaled_POL.Three,color = 'blue')\n",
    "ax[2].plot(scaled_POL.Four,color = 'cyan')\n",
    "ax[2].plot(scaled_POL.Five,color = 'pink')\n",
    "fig.set_figheight(8)\n",
    "fig.set_figwidth(10)\n",
    "plt.show()"
   ]
  },
  {
   "cell_type": "code",
   "execution_count": null,
   "metadata": {},
   "outputs": [],
   "source": [
    "print(scaled_POL.iloc[:,1:3].corr())\n",
    "print(scaled_POL.iloc[:,3:5].corr())"
   ]
  }
 ],
 "metadata": {
  "kernelspec": {
   "display_name": "optics_env_2024",
   "language": "python",
   "name": "python3"
  },
  "language_info": {
   "codemirror_mode": {
    "name": "ipython",
    "version": 3
   },
   "file_extension": ".py",
   "mimetype": "text/x-python",
   "name": "python",
   "nbconvert_exporter": "python",
   "pygments_lexer": "ipython3",
   "version": "3.12.1"
  }
 },
 "nbformat": 4,
 "nbformat_minor": 2
}
